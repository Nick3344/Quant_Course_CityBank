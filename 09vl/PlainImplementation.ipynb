{
 "cells": [
  {
   "cell_type": "code",
   "execution_count": 1,
   "id": "244e8f56",
   "metadata": {},
   "outputs": [],
   "source": [
    "import numpy as np\n",
    "import math\n",
    "from scipy.stats import norm"
   ]
  },
  {
   "cell_type": "markdown",
   "id": "e0d755f3",
   "metadata": {},
   "source": [
    "## Asian options pricing"
   ]
  },
  {
   "cell_type": "code",
   "execution_count": 2,
   "id": "70397c1f",
   "metadata": {},
   "outputs": [],
   "source": [
    "def pricer_mm(S0, K, r, sigma, T, n, option_type):\n",
    "    \n",
    "    M1 = S0 /n*sum([np.exp(r*(i+1)/n) for i in range(n)])\n",
    "    print(M1)\n",
    "    M2 = S0**2/n**2 * sum([np.exp(r*(i+j+2)/n + (sigma**2)*min(i+1,j+1)/n) for i in range(n) for j in range(n)])\n",
    "    print(M2)\n",
    "    param1 = 2*np.log(M1/S0) - np.log(M2/S0**2)/2\n",
    "    param2 = math.sqrt(np.log(M2/S0**2) - 2*np.log(M1/S0))\n",
    "    print([param1, param2])\n",
    "    d1 = (np.log(S0/K) + param1 + param2**2) /param2\n",
    "    d2 = d1 - param2\n",
    "    if option_type == 'call':\n",
    "        price = np.exp(-r*T) * (S0*np.exp(param1+(param2**2)/2)*norm.cdf(d1) - K*norm.cdf(d2) )\n",
    "        print(np.exp(-r*T) )\n",
    "        print(np.exp(param1+(param2**2)/2)*norm.cdf(d1))\n",
    "        print(K*norm.cdf(d2))\n",
    "    elif option_type == 'put':\n",
    "        price = np.exp(-r*T) * (K*norm.cdf(-d2) - (S0*np.exp(param1 +( param2**2)/2) ) * norm.cdf(-d1) )\n",
    "    else:\n",
    "        raise ValueError(\"Option type must be either 'call' or 'put'.\")\n",
    "\n",
    "    return price"
   ]
  },
  {
   "cell_type": "code",
   "execution_count": 3,
   "id": "734c5410",
   "metadata": {},
   "outputs": [],
   "source": [
    "def pricer_mc(S0, K, r, sigma, T, n, M, option_type):\n",
    "    \n",
    "    dt = T/n\n",
    "    ranvec = np.random.normal(0, 1,(M, n))\n",
    "\n",
    "    Spath1 = S0*np.concatenate((np.ones((M,1)),np.cumprod(np.exp((r-0.5*sigma**2)*dt + sigma*np.sqrt(dt)*(ranvec)), axis=1)), axis=1)\n",
    "    Spath2 = S0*np.concatenate((np.ones((M,1)),np.cumprod(np.exp((r-0.5*sigma**2)*dt + sigma*np.sqrt(dt)*(-ranvec)), axis=1)), axis=1)\n",
    "    U1 = np.average(Spath1, axis=1)\n",
    "    print(np.average(U1))\n",
    "    print(np.average(U1**2))\n",
    "    U2 = np.average(Spath2, axis=1)\n",
    "    C = 0.5*np.exp(-r*T)*(np.maximum(U1 - K, 0) + np.maximum(U2 - K, 0) )\n",
    "    P = 0.5*np.exp(-r*T)*(np.maximum(K - U1, 0) + np.maximum(K - U2, 0) )\n",
    "    price_c = np.mean(C)\n",
    "    price_p = np.mean(P)\n",
    "    stderr_c = np.std(C)/np.sqrt(M)\n",
    "    stderr_p = np.std(P)/np.sqrt(M)\n",
    "    confint_c = [price_c - 1.96*stderr_c, price_c + 1.96*stderr_c]\n",
    "    confint_p = [price_p - 1.96*stderr_p, price_p + 1.96*stderr_p]\n",
    "    if option_type == 'call':\n",
    "        price = price_c\n",
    "        confint = confint_c\n",
    "    elif option_type == 'put':\n",
    "        price = price_p\n",
    "        confint = confint_p\n",
    "    else:\n",
    "        raise ValueError(\"Option type must be either 'call' or 'put'.\")\n",
    "\n",
    "    return [price] + confint"
   ]
  },
  {
   "cell_type": "code",
   "execution_count": 42,
   "id": "dcbc7f60",
   "metadata": {},
   "outputs": [],
   "source": [
    "S0 = 100\n",
    "K = 100\n",
    "r = 0.05\n",
    "sigma = 0.3\n",
    "T = 1\n",
    "n = 100\n",
    "option_type = \"call\"\n",
    "M = 10000"
   ]
  },
  {
   "cell_type": "code",
   "execution_count": 43,
   "id": "07d108b3",
   "metadata": {
    "scrolled": true
   },
   "outputs": [
    {
     "name": "stdout",
     "output_type": "stream",
     "text": [
      "102.5678304365318\n",
      "10851.997789534893\n",
      "[0.009826259104564049, 0.17622653021258566]\n",
      "0.951229424500714\n",
      "0.6069199774755943\n",
      "52.22332007867472\n"
     ]
    },
    {
     "data": {
      "text/plain": [
       "8.055655385255257"
      ]
     },
     "execution_count": 43,
     "metadata": {},
     "output_type": "execute_result"
    }
   ],
   "source": [
    "pricer_mm(S0, K, r, sigma, T, n, option_type)"
   ]
  },
  {
   "cell_type": "code",
   "execution_count": 44,
   "id": "af0bde42",
   "metadata": {
    "scrolled": true
   },
   "outputs": [
    {
     "name": "stdout",
     "output_type": "stream",
     "text": [
      "102.53240408687974\n",
      "10840.25141976761\n"
     ]
    },
    {
     "data": {
      "text/plain": [
       "[7.940420186808458, 7.815863708681376, 8.06497666493554]"
      ]
     },
     "execution_count": 44,
     "metadata": {},
     "output_type": "execute_result"
    }
   ],
   "source": [
    "pricer_mc(S0, K, r, sigma, T, n, M, option_type)"
   ]
  },
  {
   "cell_type": "code",
   "execution_count": null,
   "id": "bc67f911",
   "metadata": {},
   "outputs": [],
   "source": []
  },
  {
   "cell_type": "code",
   "execution_count": null,
   "id": "02fd8af4",
   "metadata": {},
   "outputs": [],
   "source": [
    "np.random.normal(0, 1,(M, n))"
   ]
  },
  {
   "cell_type": "code",
   "execution_count": null,
   "id": "99863b0e",
   "metadata": {},
   "outputs": [],
   "source": [
    "np.exp((r-0.5*sigma**2)*dt + sigma*np.sqrt(dt)*(ranvec))"
   ]
  },
  {
   "cell_type": "code",
   "execution_count": null,
   "id": "45f1eabc",
   "metadata": {},
   "outputs": [],
   "source": [
    "np.cumprod(np.exp((r-0.5*sigma**2)*dt + sigma*np.sqrt(dt)*(ranvec)), axis=1)"
   ]
  },
  {
   "cell_type": "code",
   "execution_count": null,
   "id": "005635c6",
   "metadata": {},
   "outputs": [],
   "source": []
  },
  {
   "cell_type": "markdown",
   "id": "ae29046e",
   "metadata": {},
   "source": [
    "## Barrier options pricing"
   ]
  },
  {
   "cell_type": "code",
   "execution_count": null,
   "id": "cb339d6a",
   "metadata": {},
   "outputs": [],
   "source": [
    "import sys\n",
    "from pathlib import Path\n",
    "import numpy as np\n",
    "import matplotlib.pyplot as plt\n",
    "\n",
    "current = Path().resolve()\n",
    "sys.path.append(str(current))\n",
    "sys.path.append(str(current.parents[1]))\n",
    "\n",
    "from src.enums import *\n",
    "from src.utils import *\n",
    "from src.market_data import *\n",
    "from src.pricer import *\n",
    "# Make charts interactive\n",
    "%matplotlib notebook\n",
    "\n",
    "# Initialize market data\n",
    "MarketData.initialize()"
   ]
  },
  {
   "cell_type": "code",
   "execution_count": 13,
   "id": "dc913a80",
   "metadata": {},
   "outputs": [],
   "source": [
    "'''\n",
    "Vanilla Call option price\n",
    "Inputs:\n",
    " k :strike\n",
    " r: interest rate\n",
    " x: underlying price at time 0\n",
    " tau: time to expiry\n",
    " sigma: volatility\n",
    "    \n",
    "'''\n",
    "def price_european_call(K, r, S0, tau, sigma):\n",
    "    d1 = (np.log(S0/K) + (r+0.5*(sigma**2))*tau) / (sigma*np.sqrt(tau))\n",
    "    d2 = (np.log(S0/K) + (r-0.5*(sigma**2))*tau) / (sigma*np.sqrt(tau))\n",
    "    return S0*norm.cdf(d1)-K*np.exp(-r*tau)*norm.cdf(d2)\n",
    "\n",
    "'''\n",
    "Down-and-In Single Lower Barrier Call option price from call option\n",
    "Additional inputs:\n",
    "  B: (lower) barrier level at t=0\n",
    "'''\n",
    "def price_barrier_down_in_call(K, r, S0, tau, sigma, B):\n",
    "    misc = r-(sigma**2)/2\n",
    "    return (B/S0)**(2*misc/(sigma**2))*price_european_call(K,r,(B**2)/S0,tau,sigma)\n",
    "\n",
    "'''\n",
    "Down-and-Out Single Lower Barrier Call option price from call option\n",
    "'''\n",
    "def price_barrier_down_out_call(K, r, S0, tau, sigma, B):\n",
    "    return price_european_call(K, r, S0, tau, sigma) - price_barrier_down_in_call(K, r, S0, tau, sigma, B)\n",
    "\n",
    "'''\n",
    "Simulate Geometric Brownian motion several times\n",
    "Inputs:\n",
    "  S0: underlying price at time 0\n",
    "  r: return\n",
    "  sigma: volatility\n",
    "  T: time to expiry\n",
    "  n: path length (number of monitoring points)\n",
    "  M: number of paths\n",
    "Output: matrix, rows contain the MC paths \n",
    "'''\n",
    "def simulate_GBM(S0, r, sigma, T, n, M):\n",
    "    dt = T/n\n",
    "    ranvec = np.random.normal(0, 1,(M, n))\n",
    "    return S0*np.concatenate((np.ones((M,1)),np.cumprod(np.exp((r-0.5*sigma**2)*dt + sigma*np.sqrt(dt)*(ranvec)), axis=1)), axis=1)\n",
    "\n",
    "# '''\n",
    "# Down-and-out call barrier pricer with normal Monte Carlo\n",
    "# '''\n",
    "# def price_barrier_down_in_mc(K, r, S0, sigma, B, T, n, M):\n",
    "#   simi = simulate_GBM(S0, r, sigma, T, n, M)\n",
    "#   pat=c(1:m)\n",
    "#   rem = sapply(pat, function(i){\n",
    "#     ok=((min(sim[ ,i])>L) & (sim[nrow(sim),i]>k))\n",
    "#     return(ok) })\n",
    "#   sum(sim[nrow(sim),rem]-k)/m*exp(-r*tt)\n",
    "\n"
   ]
  },
  {
   "cell_type": "code",
   "execution_count": 6,
   "id": "1889557e",
   "metadata": {},
   "outputs": [
    {
     "data": {
      "text/plain": [
       "[0, 1, 2, 3, 4, 5, 6, 7, 8, 9]"
      ]
     },
     "execution_count": 6,
     "metadata": {},
     "output_type": "execute_result"
    }
   ],
   "source": [
    "list(range(0,10))"
   ]
  },
  {
   "cell_type": "code",
   "execution_count": 11,
   "id": "c199daf3",
   "metadata": {},
   "outputs": [],
   "source": [
    "K = 100\n",
    "r = 0.05\n",
    "S0 = 100\n",
    "T = 1\n",
    "tau = 1\n",
    "sigma = 0.3\n",
    "B = 90\n",
    "# n = 5\n",
    "# M = 2"
   ]
  },
  {
   "cell_type": "code",
   "execution_count": 14,
   "id": "babd5d5c",
   "metadata": {},
   "outputs": [
    {
     "name": "stdout",
     "output_type": "stream",
     "text": [
      "14.231254785985826\n",
      "4.8384794790555485\n",
      "9.392775306930277\n"
     ]
    }
   ],
   "source": [
    "print(price_european_call(K, r, S0, tau, sigma))\n",
    "print(price_barrier_down_in_call(K, r, S0, tau, sigma, B))\n",
    "print(price_barrier_down_out_call(K, r, S0, tau, sigma, B))\n",
    "# print(simulate_GBM(S0, r, sigma, T, n, M))"
   ]
  },
  {
   "cell_type": "code",
   "execution_count": null,
   "id": "1a8efb06",
   "metadata": {},
   "outputs": [],
   "source": [
    "simi = simulate_GBM(S0, r, sigma, T, n, M)\n",
    "print(simi)\n",
    "min(simulate_GBM(S0, r, sigma, T, n, M))"
   ]
  },
  {
   "cell_type": "code",
   "execution_count": null,
   "id": "4098860b",
   "metadata": {},
   "outputs": [],
   "source": [
    "np.min(simi, 1)"
   ]
  },
  {
   "cell_type": "code",
   "execution_count": null,
   "id": "09bde7bc",
   "metadata": {},
   "outputs": [],
   "source": []
  }
 ],
 "metadata": {
  "kernelspec": {
   "display_name": "Python 3 (ipykernel)",
   "language": "python",
   "name": "python3"
  },
  "language_info": {
   "codemirror_mode": {
    "name": "ipython",
    "version": 3
   },
   "file_extension": ".py",
   "mimetype": "text/x-python",
   "name": "python",
   "nbconvert_exporter": "python",
   "pygments_lexer": "ipython3",
   "version": "3.11.3"
  }
 },
 "nbformat": 4,
 "nbformat_minor": 5
}
