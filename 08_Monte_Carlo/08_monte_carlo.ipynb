{
 "cells": [
  {
   "cell_type": "markdown",
   "id": "56acec2e",
   "metadata": {
    "slideshow": {
     "slide_type": "slide"
    }
   },
   "source": [
    "# Quant Course: Lesson 8\n",
    "## Monte Carlo method, variance reduction"
   ]
  },
  {
   "cell_type": "markdown",
   "id": "7c6ed0c3",
   "metadata": {
    "slideshow": {
     "slide_type": "slide"
    }
   },
   "source": [
    "## Martingale Pricing\n",
    "    \n",
    "The price of a product with some payoff function $Payoff$ can be calculated as the expected value of the discounted payoff under risk neutral measure. We assume deterministic interest rate so the discount factor can be moved out from the expected value:\n",
    "\n",
    "$$ V(t) = e^{-r(T-t)}\\mathbb{E}[Payoff(S_T)] $$\n",
    "\n",
    "We will work in the Black-Scholes model where the underlying follows \n",
    "\n",
    "$$ dS_t = rS_tdt + \\sigma S_tdW_t $$\n"
   ]
  },
  {
   "cell_type": "markdown",
   "id": "f9df914e-9b97-4600-8ff6-e5cd14580dd2",
   "metadata": {},
   "source": [
    "## Estimating the expected payoff\n",
    "\n",
    "Law of large numbers: Expected value can be estimated with the sample mean\n",
    "\n",
    "$$ m = E[X] \\approx \\frac{1}{N}\\sum_iX_i $$ \n",
    "\n",
    "\n",
    "\n",
    "$$ V(t) = e^{-r(T-t)}\\mathbb{E}[Payoff(S_T)] $$\n",
    "\n",
    "* Generate n independent samples from $S_T$\n",
    "* Evaluate the payoff function on the samples and take mean\n",
    "\n",
    "We implement payoff function for each contract so the second step is easy, the complication arise at the first step.\n",
    "\n",
    "In the general case we dont know the distribution of $S_T$, we only know it's inital value at some time $t$ and we have an assumption on it's dinamic (our market model). How to obtain samples from $S_T$?"
   ]
  },
  {
   "cell_type": "markdown",
   "id": "3833e983-3ade-476c-b4c5-f084b4a82d2a",
   "metadata": {},
   "source": [
    "## Euler–Maruyama method\n",
    "\n",
    "consider the following stochastic diff equation:\n",
    "\n",
    "$$ dS_t = \\mu(t, S_t) dt + \\sigma(t,S_t)dW_t $$\n",
    "\n",
    "One can approximate the solution numerically \n",
    "\n",
    "* partition the time interval of $[0,T]$ into $N$ subintervals: $\\Delta T = T/N$,   $ \\quad t_i = t*\\Delta T$\n",
    "* we know the stock price today $S_0$. We approximate the stock price at the next timepoint:\n",
    "$$ S_{t_{i+1}} = S_{t_i} + \\mu(t_i, S_{t_i}) \\Delta T + \\sigma(t_i,S_{t_i}) \\cdot (W_{t_{i+1}} - W_{t_i}) $$\n",
    "* $W_t$ is a brownian motion, it's increments are independent normals:\n",
    "$$ W_{t_{i+1}} - W_{t_i} \\sim \\mathcal{N}(0,t_{i+1}-t_i) $$\n",
    "$$ W_{t_{i+1}} - W_{t_i} = \\sqrt{\\Delta T}\\epsilon_i, \\quad \\epsilon_i\\sim \\mathcal{N}(0,1)$$"
   ]
  },
  {
   "cell_type": "markdown",
   "id": "7efb10f6-5376-4093-a7b1-e90682506d72",
   "metadata": {},
   "source": [
    "## Solution to the SDE in the BS model\n",
    "\n",
    "In BS model the risky asset follows GBM:\n",
    "\n",
    "$$ dS_t = rS_t dt + \\sigma S_tdW_t $$\n",
    "\n",
    "For this relatively simple SDE the solution is known:\n",
    "\n",
    "$$ S_t = S_0 e^{(r-\\frac{\\sigma^2}{2})t+\\sigma W_t} $$\n",
    "\n",
    "If we only need samples from $S_T$ we can simulate it directly, no need for partitioning the time interval and simulate the stock price for (from the contract's point of view) useless time points!"
   ]
  },
  {
   "cell_type": "markdown",
   "id": "995429fa-7646-4c66-ba25-e965f29b72af",
   "metadata": {},
   "source": [
    "## Random number generation\n",
    "\n",
    "We will use pseudo random numbers: The generated numbers will be statistically random, but if we fix a seed, always the same numbers will be generated\n",
    "\n",
    "How many random numbers will be needed?\n",
    "\n",
    "* For a single path, we will need as many $\\epsilon$ as the number of simulation tenors.\n",
    "\n",
    "* Therefor the total number of $\\epsilon$ needed is <b>NumberOfPaths * NumberOfSimulTenors<b>"
   ]
  },
  {
   "cell_type": "markdown",
   "id": "0706b74a-8f90-4713-8f3e-cc311ee49718",
   "metadata": {},
   "source": [
    "## Simulation tenors\n",
    "\n",
    "<img src=\"./img/timegrid.png\" style=\"margin-left:auto; margin-right:auto; width: 1500px;\" />"
   ]
  },
  {
   "cell_type": "markdown",
   "id": "409f2898-b346-4911-bc98-c51174a53b6d",
   "metadata": {},
   "source": [
    "<img src=\"./img/mc_code_structure.png\" style=\"margin-left:auto; margin-right:auto; width: 1500px;\" />"
   ]
  },
  {
   "cell_type": "markdown",
   "id": "06f51cbe-281a-482c-8698-b220d8df8eb1",
   "metadata": {},
   "source": [
    "## Excercise 1:\n",
    "\n",
    "Implement the follwoing methods:\n",
    "- evolve simulated_spot\n",
    "- simulate_spot_path\n",
    "- calc_fair_value\n",
    "\n",
    "Price a fwd/european option with analytic and MC method\n",
    "\n",
    "Change the number of simulation paths and see how MC noise changes"
   ]
  },
  {
   "cell_type": "code",
   "execution_count": null,
   "id": "36839a26-9d29-404e-bea1-a74c3f1a08f4",
   "metadata": {},
   "outputs": [],
   "source": [
    "import os \n",
    "import sys\n",
    "\n",
    "sys.path.append(\"..\\..\")\n",
    "\n",
    "from src.pricer import *\n",
    "MarketData.initialize()"
   ]
  },
  {
   "cell_type": "code",
   "execution_count": null,
   "id": "edc9d426-167c-4bfb-aeb2-663f0b4b8c14",
   "metadata": {},
   "outputs": [],
   "source": [
    "# import xy\n",
    "\n",
    "und = Stock.TEST_COMPANY\n",
    "ls = LongShort.LONG\n",
    "strike = 1.25\n",
    "expiry = 1\n",
    "strike_level = strike * MarketData.get_spot()[und]\n",
    "\n",
    "model = FlatVolModel(und)\n",
    "\n",
    "contract_fwd = ForwardContract(und, ls, strike_level, expiry)\n",
    "contract_opt = EuropeanContract(und, PutCallFwd.PUT, ls, strike_level, expiry)\n",
    "\n",
    "pricer_fwd_an = ForwardAnalyticPricer(contract_fwd, model, Params())\n",
    "pricer_opt_an = EuropeanAnalyticPricer(contract_opt, model, Params())\n",
    "\n",
    "mc_params = MCParams(num_of_path=5000,\n",
    "                     tenor_frequency=0,\n",
    "                     antithetic=False,\n",
    "                     standardize=False,\n",
    "                     control_variate=False,\n",
    "                     seed=1)\n",
    "\n",
    "pricer_fwd_mc = GenericMCPricer(contract_fwd, model, mc_params)\n",
    "pricer_opt_mc = GenericMCPricer(contract_opt, model, mc_params)\n",
    "\n",
    "fv_fwd_an = pricer_fwd_an.calc_fair_value()\n",
    "fv_fwd_mc = pricer_fwd_mc.calc_fair_value()\n",
    "\n",
    "fv_opt_an = pricer_opt_an.calc_fair_value()\n",
    "fv_opt_mc = pricer_opt_mc.calc_fair_value()\n",
    "\n",
    "print(\"FORWARD AN: \" + str(fv_fwd_an))\n",
    "print(\"FORWARD MC: \" + str(fv_fwd_mc))\n",
    "print(\"OPTION AN: \" + str(fv_opt_an))\n",
    "print(\"OPTION MC: \" + str(fv_opt_mc))"
   ]
  },
  {
   "cell_type": "code",
   "execution_count": null,
   "id": "f397e464-ba33-43a7-849b-411309cf160f",
   "metadata": {
    "scrolled": true
   },
   "outputs": [],
   "source": [
    "## MC NOISE\n",
    "fv_list = []\n",
    "for pathnum in [250, 1000, 5000, 10000]:\n",
    "    fv_list_for_pathnum = []\n",
    "    for seed in range(1,11):\n",
    "        mc_params = MCParams(num_of_path=pathnum,\n",
    "                             tenor_frequency=0,\n",
    "                             antithetic=False,\n",
    "                             standardize=False,\n",
    "                             control_variate=False,\n",
    "                             seed=seed)\n",
    "        pricer_opt_mc = GenericMCPricer(contract_opt, model, mc_params)\n",
    "        fv_opt_mc = pricer_opt_mc.calc_fair_value()\n",
    "        fv_list_for_pathnum.append(fv_opt_mc)\n",
    "    fv_list.append(fv_list_for_pathnum)\n",
    "\n",
    "#boxplot\n",
    "import matplotlib.pyplot as plt\n",
    " \n",
    "fig = plt.figure(figsize =(10, 7))\n",
    "ax = fig.add_axes([0, 0, 1, 1])\n",
    "bp = ax.boxplot(fv_list)\n",
    "plt.axhline(y = fv_opt_an, color = 'b', linestyle = '-')\n",
    "# show plot\n",
    "plt.show()"
   ]
  },
  {
   "cell_type": "markdown",
   "id": "5797579e",
   "metadata": {
    "slideshow": {
     "slide_type": "slide"
    }
   },
   "source": [
    "# Variance reduction methods\n",
    "\n",
    "* Standardizing the normal randoms\n",
    "\n",
    "* Antithetic random numbers \n",
    "    \n",
    "* Control Variate"
   ]
  },
  {
   "cell_type": "markdown",
   "id": "a3d35ba1",
   "metadata": {},
   "source": [
    "## Variance Reduction\n",
    "\n",
    "### Standardizing:\n",
    "\n",
    "We generate $n$ independent std normals\n",
    "\n",
    "$$\\epsilon = \\{\\epsilon_1, ..., \\epsilon_n\\} \\qquad \\epsilon_i \\sim \\mathcal{N}(0,1) \\, iid$$\n",
    "\n",
    "The sample itself wont have exactly 0 mean and 1 std dev, so we can adjust it with the sample's mean and std dev:\n",
    "\n",
    "$$\\epsilon^* = \\frac{\\epsilon - \\mu}{\\sigma}$$  \n",
    "\n",
    "### Antithetic randoms:\n",
    "\n",
    "Once epsilon is generated, flip all the random's sign and reuse them:\n",
    "\n",
    "$$ \\epsilon^* =  \\{\\epsilon_1, ..., \\epsilon_n, -\\epsilon_1, ..., -\\epsilon_n\\} $$\n"
   ]
  },
  {
   "cell_type": "markdown",
   "id": "84d6e1ca",
   "metadata": {
    "slideshow": {
     "slide_type": "slide"
    }
   },
   "source": [
    "## Variance Reduction, Control Variate\n",
    "\n",
    "The estimator given control variate Y and parameter b is\n",
    "$$ X^{CV} = X + b(Y - E[Y]) $$\n",
    "\n",
    "The new estimator is still unbiased:\n",
    "\n",
    "$$ E[X^{CV}] = E[X] + b(E[Y] - E[E[Y]]) = E[X] $$\n",
    "\n",
    "Let's see the variance of the new estimator:\n",
    "\n",
    "$$ Var[X^{CV}] = Var[X] + Var[b*(Y-E[Y]] + 2Cov[X,b(Y - E[Y] )] = Var[X] + b^2Var[Y] + 2bCov[X,Y] $$\n",
    "\n",
    "Once we decided what control variate Y we will use, we can choos b such that the modified estimator's variance is minimised:\n",
    "\n",
    "with $ b^*=-\\frac{Cov[X,Y]}{Var[Y]} $, the variance of the new estimator will decrease\n",
    "\n",
    "$$ Var[X^{CV}] = Var[X] - \\frac{(Cov[X,Y])^2}{Var[Y]} $$\n"
   ]
  },
  {
   "cell_type": "markdown",
   "id": "77a02ec0",
   "metadata": {
    "slideshow": {
     "slide_type": "slide"
    }
   },
   "source": [
    "## Variance Reduction, Control Variate\n",
    "\n",
    "$$ X^{CV} = X + b(Y - E[Y])\\qquad b^*=-\\frac{Cov[X,Y]}{Var[Y]} $$\n",
    "\n",
    "For example for options one can choose forwards as control variate:\n",
    "\n",
    "$$ X = (S_T - K)^+ $$\n",
    "$$ Y = S_T - K $$\n",
    "\n",
    "1, How to determine $b^*$?\n",
    "\n",
    "* We will simulate n realization of $S_T$\n",
    "* Evaluate the payoffs of $X$ and $Y$ on each $S^{(i)}_T$\n",
    "* Use these samples $[X^{(1)}, ...]$, $[Y^{(1)}, ...]$  to estimate $Cov[X,Y]$ and $Var[Y]$\n",
    "\n",
    "2, How to determine $E[Y]$?\n",
    "\n",
    "We can only use such contracts as control variates, which have analytic pricing formula. In that case, we can create an analytic pricer for the contract and invoke it's calc_fair_value method.\n"
   ]
  },
  {
   "cell_type": "markdown",
   "id": "6544cec4-b16a-4795-bbbd-2e07d298a2fc",
   "metadata": {},
   "source": [
    "## Excercise 2\n",
    "\n",
    "Implement control variate method:\n",
    "- apply_control_var_adj\n",
    "- get_controlvar_helper_pricer\n",
    "\n",
    "Test the various noise reduction methods"
   ]
  },
  {
   "cell_type": "code",
   "execution_count": null,
   "id": "d74dfefb-62c2-4d47-9210-71467e86be7d",
   "metadata": {
    "scrolled": true
   },
   "outputs": [],
   "source": [
    "fv_list = []\n",
    "\n",
    "numofpath = 5000\n",
    "\n",
    "mc_params_0 = MCParams(num_of_path=numofpath,\n",
    "                       tenor_frequency=0,\n",
    "                       antithetic=False,\n",
    "                       standardize=False,\n",
    "                       control_variate=False,\n",
    "                       seed=1)\n",
    "\n",
    "mc_params_1 = MCParams(num_of_path=numofpath,\n",
    "                       tenor_frequency=0,\n",
    "                       antithetic=True,\n",
    "                       standardize=False,\n",
    "                       control_variate=False,\n",
    "                       seed=1)\n",
    "\n",
    "mc_params_2 = MCParams(num_of_path=numofpath,\n",
    "                       tenor_frequency=0,\n",
    "                       antithetic=False,\n",
    "                       standardize=True,\n",
    "                       control_variate=False,\n",
    "                       seed=1)\n",
    "\n",
    "mc_params_3 = MCParams(num_of_path=numofpath,\n",
    "                       tenor_frequency=0,\n",
    "                       antithetic=False,\n",
    "                       standardize=False,\n",
    "                       control_variate=True,\n",
    "                       seed=1)\n",
    "\n",
    "mc_params_4 = MCParams(num_of_path=numofpath,\n",
    "                       tenor_frequency=0,\n",
    "                       antithetic=True,\n",
    "                       standardize=True,\n",
    "                       control_variate=True,\n",
    "                       seed=1)\n",
    "\n",
    "fv_list = []\n",
    "for param in [mc_params_0, mc_params_1, mc_params_2, mc_params_3, mc_params_4]:\n",
    "    fv_list_for_pathnum = []\n",
    "    for seed in range(1,11):\n",
    "        param.seed = seed\n",
    "        pricer_opt_mc = GenericMCPricer(contract_opt, model, param)\n",
    "        fv_opt_mc = pricer_opt_mc.calc_fair_value()\n",
    "        fv_list_for_pathnum.append(fv_opt_mc)\n",
    "    fv_list.append(fv_list_for_pathnum)\n",
    "\n",
    "#boxplot\n",
    "fig = plt.figure(figsize =(10, 7))\n",
    "ax = fig.add_axes([0, 0, 1, 1])\n",
    "bp = ax.boxplot(fv_list)\n",
    "plt.axhline(y = fv_opt_an, color = 'b', linestyle = '-')\n",
    "# show plot\n",
    "plt.show()"
   ]
  }
 ],
 "metadata": {
  "celltoolbar": "Slideshow",
  "kernelspec": {
   "display_name": "venv_quant_course_v39",
   "language": "python",
   "name": "venv_quant_course_v39"
  },
  "language_info": {
   "codemirror_mode": {
    "name": "ipython",
    "version": 3
   },
   "file_extension": ".py",
   "mimetype": "text/x-python",
   "name": "python",
   "nbconvert_exporter": "python",
   "pygments_lexer": "ipython3",
   "version": "3.9.2"
  }
 },
 "nbformat": 4,
 "nbformat_minor": 5
}
